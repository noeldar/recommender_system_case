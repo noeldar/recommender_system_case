{
 "cells": [
  {
   "cell_type": "code",
   "execution_count": 15,
   "metadata": {},
   "outputs": [],
   "source": [
    "import numpy as np\n",
    "import pandas as pd\n",
    "import datetime as dt"
   ]
  },
  {
   "cell_type": "code",
   "execution_count": 16,
   "metadata": {},
   "outputs": [
    {
     "data": {
      "text/html": [
       "<div>\n",
       "<style scoped>\n",
       "    .dataframe tbody tr th:only-of-type {\n",
       "        vertical-align: middle;\n",
       "    }\n",
       "\n",
       "    .dataframe tbody tr th {\n",
       "        vertical-align: top;\n",
       "    }\n",
       "\n",
       "    .dataframe thead th {\n",
       "        text-align: right;\n",
       "    }\n",
       "</style>\n",
       "<table border=\"1\" class=\"dataframe\">\n",
       "  <thead>\n",
       "    <tr style=\"text-align: right;\">\n",
       "      <th></th>\n",
       "      <th>event</th>\n",
       "      <th>sessionid</th>\n",
       "      <th>eventtime</th>\n",
       "      <th>price</th>\n",
       "      <th>productid</th>\n",
       "    </tr>\n",
       "  </thead>\n",
       "  <tbody>\n",
       "    <tr>\n",
       "      <th>0</th>\n",
       "      <td>cart</td>\n",
       "      <td>a0655eee-1267-4820-af21-ad8ac068ff7a</td>\n",
       "      <td>2020-06-01T08:59:16.406Z</td>\n",
       "      <td>14.48</td>\n",
       "      <td>HBV00000NVZE8</td>\n",
       "    </tr>\n",
       "    <tr>\n",
       "      <th>1</th>\n",
       "      <td>cart</td>\n",
       "      <td>d2ea7bd3-9235-4a9f-a9ea-d7f296e71318</td>\n",
       "      <td>2020-06-01T08:59:46.580Z</td>\n",
       "      <td>49.90</td>\n",
       "      <td>HBV00000U2B18</td>\n",
       "    </tr>\n",
       "    <tr>\n",
       "      <th>2</th>\n",
       "      <td>cart</td>\n",
       "      <td>5e594788-78a0-44dd-8e66-37022d48f691</td>\n",
       "      <td>2020-06-01T08:59:33.308Z</td>\n",
       "      <td>1.99</td>\n",
       "      <td>OFIS3101-080</td>\n",
       "    </tr>\n",
       "    <tr>\n",
       "      <th>3</th>\n",
       "      <td>cart</td>\n",
       "      <td>fdfeb652-22fa-4153-b9b5-4dfa0dcaffdf</td>\n",
       "      <td>2020-06-01T08:59:31.911Z</td>\n",
       "      <td>2.25</td>\n",
       "      <td>HBV00000NVZBW</td>\n",
       "    </tr>\n",
       "    <tr>\n",
       "      <th>4</th>\n",
       "      <td>cart</td>\n",
       "      <td>9e9d4f7e-898c-40fb-aae9-256c40779933</td>\n",
       "      <td>2020-06-01T08:59:33.888Z</td>\n",
       "      <td>9.95</td>\n",
       "      <td>HBV00000NE0T4</td>\n",
       "    </tr>\n",
       "  </tbody>\n",
       "</table>\n",
       "</div>"
      ],
      "text/plain": [
       "  event                             sessionid                 eventtime  \\\n",
       "0  cart  a0655eee-1267-4820-af21-ad8ac068ff7a  2020-06-01T08:59:16.406Z   \n",
       "1  cart  d2ea7bd3-9235-4a9f-a9ea-d7f296e71318  2020-06-01T08:59:46.580Z   \n",
       "2  cart  5e594788-78a0-44dd-8e66-37022d48f691  2020-06-01T08:59:33.308Z   \n",
       "3  cart  fdfeb652-22fa-4153-b9b5-4dfa0dcaffdf  2020-06-01T08:59:31.911Z   \n",
       "4  cart  9e9d4f7e-898c-40fb-aae9-256c40779933  2020-06-01T08:59:33.888Z   \n",
       "\n",
       "   price      productid  \n",
       "0  14.48  HBV00000NVZE8  \n",
       "1  49.90  HBV00000U2B18  \n",
       "2   1.99   OFIS3101-080  \n",
       "3   2.25  HBV00000NVZBW  \n",
       "4   9.95  HBV00000NE0T4  "
      ]
     },
     "execution_count": 16,
     "metadata": {},
     "output_type": "execute_result"
    }
   ],
   "source": [
    "#reading event.json and creating pandas dataframe\n",
    "import pandas as pd\n",
    "events_df = pd.read_json('../events.json')\n",
    "events_df_reorganized=pd.DataFrame(list(events_df[\"events\"]))\n",
    "events_df_reorganized.head()"
   ]
  },
  {
   "cell_type": "code",
   "execution_count": 17,
   "metadata": {},
   "outputs": [
    {
     "data": {
      "text/html": [
       "<div>\n",
       "<style scoped>\n",
       "    .dataframe tbody tr th:only-of-type {\n",
       "        vertical-align: middle;\n",
       "    }\n",
       "\n",
       "    .dataframe tbody tr th {\n",
       "        vertical-align: top;\n",
       "    }\n",
       "\n",
       "    .dataframe thead th {\n",
       "        text-align: right;\n",
       "    }\n",
       "</style>\n",
       "<table border=\"1\" class=\"dataframe\">\n",
       "  <thead>\n",
       "    <tr style=\"text-align: right;\">\n",
       "      <th></th>\n",
       "      <th>event</th>\n",
       "      <th>sessionid</th>\n",
       "      <th>eventtime</th>\n",
       "      <th>price</th>\n",
       "      <th>productid</th>\n",
       "    </tr>\n",
       "  </thead>\n",
       "  <tbody>\n",
       "    <tr>\n",
       "      <th>0</th>\n",
       "      <td>cart</td>\n",
       "      <td>a0655eee-1267-4820-af21-ad8ac068ff7a</td>\n",
       "      <td>2020-06-01T08:59:16.406Z</td>\n",
       "      <td>14.48</td>\n",
       "      <td>HBV00000NVZE8</td>\n",
       "    </tr>\n",
       "    <tr>\n",
       "      <th>1</th>\n",
       "      <td>cart</td>\n",
       "      <td>d2ea7bd3-9235-4a9f-a9ea-d7f296e71318</td>\n",
       "      <td>2020-06-01T08:59:46.580Z</td>\n",
       "      <td>49.90</td>\n",
       "      <td>HBV00000U2B18</td>\n",
       "    </tr>\n",
       "    <tr>\n",
       "      <th>2</th>\n",
       "      <td>cart</td>\n",
       "      <td>5e594788-78a0-44dd-8e66-37022d48f691</td>\n",
       "      <td>2020-06-01T08:59:33.308Z</td>\n",
       "      <td>1.99</td>\n",
       "      <td>OFIS3101-080</td>\n",
       "    </tr>\n",
       "    <tr>\n",
       "      <th>3</th>\n",
       "      <td>cart</td>\n",
       "      <td>fdfeb652-22fa-4153-b9b5-4dfa0dcaffdf</td>\n",
       "      <td>2020-06-01T08:59:31.911Z</td>\n",
       "      <td>2.25</td>\n",
       "      <td>HBV00000NVZBW</td>\n",
       "    </tr>\n",
       "    <tr>\n",
       "      <th>4</th>\n",
       "      <td>cart</td>\n",
       "      <td>9e9d4f7e-898c-40fb-aae9-256c40779933</td>\n",
       "      <td>2020-06-01T08:59:33.888Z</td>\n",
       "      <td>9.95</td>\n",
       "      <td>HBV00000NE0T4</td>\n",
       "    </tr>\n",
       "  </tbody>\n",
       "</table>\n",
       "</div>"
      ],
      "text/plain": [
       "  event                             sessionid                 eventtime  \\\n",
       "0  cart  a0655eee-1267-4820-af21-ad8ac068ff7a  2020-06-01T08:59:16.406Z   \n",
       "1  cart  d2ea7bd3-9235-4a9f-a9ea-d7f296e71318  2020-06-01T08:59:46.580Z   \n",
       "2  cart  5e594788-78a0-44dd-8e66-37022d48f691  2020-06-01T08:59:33.308Z   \n",
       "3  cart  fdfeb652-22fa-4153-b9b5-4dfa0dcaffdf  2020-06-01T08:59:31.911Z   \n",
       "4  cart  9e9d4f7e-898c-40fb-aae9-256c40779933  2020-06-01T08:59:33.888Z   \n",
       "\n",
       "   price      productid  \n",
       "0  14.48  HBV00000NVZE8  \n",
       "1  49.90  HBV00000U2B18  \n",
       "2   1.99   OFIS3101-080  \n",
       "3   2.25  HBV00000NVZBW  \n",
       "4   9.95  HBV00000NE0T4  "
      ]
     },
     "execution_count": 17,
     "metadata": {},
     "output_type": "execute_result"
    }
   ],
   "source": [
    "#deleting rows that contain None elements\n",
    "events_df_reorganized=events_df_reorganized.mask(events_df_reorganized.eq('None')).dropna()\n",
    "events_df_reorganized.head()"
   ]
  },
  {
   "cell_type": "code",
   "execution_count": 18,
   "metadata": {},
   "outputs": [],
   "source": [
    "#reading meta.json and creating pandas dataframe\n",
    "meta_df = pd.read_json('../meta.json')\n",
    "meta_df_reorganized = pd.DataFrame(list(meta_df[\"meta\"]))"
   ]
  },
  {
   "cell_type": "code",
   "execution_count": 19,
   "metadata": {},
   "outputs": [
    {
     "data": {
      "text/html": [
       "<div>\n",
       "<style scoped>\n",
       "    .dataframe tbody tr th:only-of-type {\n",
       "        vertical-align: middle;\n",
       "    }\n",
       "\n",
       "    .dataframe tbody tr th {\n",
       "        vertical-align: top;\n",
       "    }\n",
       "\n",
       "    .dataframe thead th {\n",
       "        text-align: right;\n",
       "    }\n",
       "</style>\n",
       "<table border=\"1\" class=\"dataframe\">\n",
       "  <thead>\n",
       "    <tr style=\"text-align: right;\">\n",
       "      <th></th>\n",
       "      <th>productid</th>\n",
       "      <th>brand</th>\n",
       "      <th>category</th>\n",
       "      <th>subcategory</th>\n",
       "      <th>name</th>\n",
       "    </tr>\n",
       "  </thead>\n",
       "  <tbody>\n",
       "    <tr>\n",
       "      <th>0</th>\n",
       "      <td>HBV00000AX6LR</td>\n",
       "      <td>Palette</td>\n",
       "      <td>Kişisel Bakım</td>\n",
       "      <td>Saç Bakımı</td>\n",
       "      <td>Palette Kalıcı Doğal Renkler 10-4 PAPATYA</td>\n",
       "    </tr>\n",
       "    <tr>\n",
       "      <th>1</th>\n",
       "      <td>HBV00000BSAQG</td>\n",
       "      <td>Best</td>\n",
       "      <td>Pet Shop</td>\n",
       "      <td>Kedi</td>\n",
       "      <td>Best Pet Jöle İçinde Parça Etli Somonlu Konser...</td>\n",
       "    </tr>\n",
       "    <tr>\n",
       "      <th>2</th>\n",
       "      <td>HBV00000JUHBA</td>\n",
       "      <td>Tarım Kredi</td>\n",
       "      <td>Temel Gıda</td>\n",
       "      <td>Bakliyat, Pirinç, Makarna</td>\n",
       "      <td>Türkiye Tarım Kredi Koop.Yeşil Mercimek 1 kg</td>\n",
       "    </tr>\n",
       "    <tr>\n",
       "      <th>3</th>\n",
       "      <td>HBV00000NE0QI</td>\n",
       "      <td>Namet</td>\n",
       "      <td>Et, Balık, Şarküteri</td>\n",
       "      <td>Şarküteri</td>\n",
       "      <td>Namet Fıstıklı Macar Salam 100 gr</td>\n",
       "    </tr>\n",
       "    <tr>\n",
       "      <th>4</th>\n",
       "      <td>HBV00000NE0UQ</td>\n",
       "      <td>Muratbey</td>\n",
       "      <td>Kahvaltılık ve Süt</td>\n",
       "      <td>Peynir</td>\n",
       "      <td>Muratbey Burgu Peyniri 250 gr</td>\n",
       "    </tr>\n",
       "  </tbody>\n",
       "</table>\n",
       "</div>"
      ],
      "text/plain": [
       "       productid        brand              category  \\\n",
       "0  HBV00000AX6LR      Palette         Kişisel Bakım   \n",
       "1  HBV00000BSAQG         Best              Pet Shop   \n",
       "2  HBV00000JUHBA  Tarım Kredi            Temel Gıda   \n",
       "3  HBV00000NE0QI        Namet  Et, Balık, Şarküteri   \n",
       "4  HBV00000NE0UQ     Muratbey    Kahvaltılık ve Süt   \n",
       "\n",
       "                 subcategory  \\\n",
       "0                 Saç Bakımı   \n",
       "1                       Kedi   \n",
       "2  Bakliyat, Pirinç, Makarna   \n",
       "3                  Şarküteri   \n",
       "4                     Peynir   \n",
       "\n",
       "                                                name  \n",
       "0          Palette Kalıcı Doğal Renkler 10-4 PAPATYA  \n",
       "1  Best Pet Jöle İçinde Parça Etli Somonlu Konser...  \n",
       "2       Türkiye Tarım Kredi Koop.Yeşil Mercimek 1 kg  \n",
       "3                  Namet Fıstıklı Macar Salam 100 gr  \n",
       "4                      Muratbey Burgu Peyniri 250 gr  "
      ]
     },
     "execution_count": 19,
     "metadata": {},
     "output_type": "execute_result"
    }
   ],
   "source": [
    "#deleting rows that contain None elements\n",
    "meta_df_reorganized=meta_df_reorganized.mask(meta_df_reorganized.eq('None')).dropna()\n",
    "meta_df_reorganized.head()"
   ]
  },
  {
   "cell_type": "code",
   "execution_count": 20,
   "metadata": {},
   "outputs": [
    {
     "data": {
      "image/png": "[encoded data removed]",
      "text/plain": [
       "<Figure size 432x288 with 1 Axes>"
      ]
     },
     "metadata": {
      "needs_background": "light"
     },
     "output_type": "display_data"
    }
   ],
   "source": [
    "#Distribution of products in metadata according to category information\n",
    "import matplotlib.pyplot as plt\n",
    "serie=meta_df_reorganized.groupby('category')['category'].count()\n",
    "serie.plot.bar()\n",
    "\n",
    "plt.show()"
   ]
  },
  {
   "cell_type": "code",
   "execution_count": 21,
   "metadata": {},
   "outputs": [
    {
     "data": {
      "text/html": [
       "<div>\n",
       "<style scoped>\n",
       "    .dataframe tbody tr th:only-of-type {\n",
       "        vertical-align: middle;\n",
       "    }\n",
       "\n",
       "    .dataframe tbody tr th {\n",
       "        vertical-align: top;\n",
       "    }\n",
       "\n",
       "    .dataframe thead th {\n",
       "        text-align: right;\n",
       "    }\n",
       "</style>\n",
       "<table border=\"1\" class=\"dataframe\">\n",
       "  <thead>\n",
       "    <tr style=\"text-align: right;\">\n",
       "      <th></th>\n",
       "      <th>productid</th>\n",
       "      <th>brand</th>\n",
       "      <th>category</th>\n",
       "      <th>subcategory</th>\n",
       "      <th>name</th>\n",
       "    </tr>\n",
       "  </thead>\n",
       "  <tbody>\n",
       "    <tr>\n",
       "      <th>0</th>\n",
       "      <td>HBV00000AX6LR</td>\n",
       "      <td>Palette</td>\n",
       "      <td>Kişisel Bakım</td>\n",
       "      <td>Saç Bakımı</td>\n",
       "      <td>Palette Kalıcı Doğal Renkler 10-4 PAPATYA</td>\n",
       "    </tr>\n",
       "    <tr>\n",
       "      <th>1</th>\n",
       "      <td>HBV00000BSAQG</td>\n",
       "      <td>Best</td>\n",
       "      <td>Pet Shop</td>\n",
       "      <td>Kedi</td>\n",
       "      <td>Best Pet Jöle İçinde Parça Etli Somonlu Konser...</td>\n",
       "    </tr>\n",
       "    <tr>\n",
       "      <th>2</th>\n",
       "      <td>HBV00000JUHBA</td>\n",
       "      <td>Tarım Kredi</td>\n",
       "      <td>Temel Gıda</td>\n",
       "      <td>Bakliyat, Pirinç, Makarna</td>\n",
       "      <td>Türkiye Tarım Kredi Koop.Yeşil Mercimek 1 kg</td>\n",
       "    </tr>\n",
       "    <tr>\n",
       "      <th>3</th>\n",
       "      <td>HBV00000NE0QI</td>\n",
       "      <td>Namet</td>\n",
       "      <td>Et, Balık, Şarküteri</td>\n",
       "      <td>Şarküteri</td>\n",
       "      <td>Namet Fıstıklı Macar Salam 100 gr</td>\n",
       "    </tr>\n",
       "    <tr>\n",
       "      <th>4</th>\n",
       "      <td>HBV00000NE0UQ</td>\n",
       "      <td>Muratbey</td>\n",
       "      <td>Kahvaltılık ve Süt</td>\n",
       "      <td>Peynir</td>\n",
       "      <td>Muratbey Burgu Peyniri 250 gr</td>\n",
       "    </tr>\n",
       "  </tbody>\n",
       "</table>\n",
       "</div>"
      ],
      "text/plain": [
       "       productid        brand              category  \\\n",
       "0  HBV00000AX6LR      Palette         Kişisel Bakım   \n",
       "1  HBV00000BSAQG         Best              Pet Shop   \n",
       "2  HBV00000JUHBA  Tarım Kredi            Temel Gıda   \n",
       "3  HBV00000NE0QI        Namet  Et, Balık, Şarküteri   \n",
       "4  HBV00000NE0UQ     Muratbey    Kahvaltılık ve Süt   \n",
       "\n",
       "                 subcategory  \\\n",
       "0                 Saç Bakımı   \n",
       "1                       Kedi   \n",
       "2  Bakliyat, Pirinç, Makarna   \n",
       "3                  Şarküteri   \n",
       "4                     Peynir   \n",
       "\n",
       "                                                name  \n",
       "0          Palette Kalıcı Doğal Renkler 10-4 PAPATYA  \n",
       "1  Best Pet Jöle İçinde Parça Etli Somonlu Konser...  \n",
       "2       Türkiye Tarım Kredi Koop.Yeşil Mercimek 1 kg  \n",
       "3                  Namet Fıstıklı Macar Salam 100 gr  \n",
       "4                      Muratbey Burgu Peyniri 250 gr  "
      ]
     },
     "execution_count": 21,
     "metadata": {},
     "output_type": "execute_result"
    }
   ],
   "source": [
    "#since there are so little products for Meyve ve Sebze category, I didnt use these products to create recommender systems\n",
    "meta_df_reorganized=meta_df_reorganized.loc[meta_df_reorganized['category'] != 'Meyve ve Sebze']\n",
    "meta_df_reorganized.head()"
   ]
  },
  {
   "cell_type": "code",
   "execution_count": null,
   "metadata": {},
   "outputs": [],
   "source": []
  },
  {
   "cell_type": "code",
   "execution_count": 22,
   "metadata": {},
   "outputs": [],
   "source": [
    "#after these preprocess, we have to make sure event data doesnt contain more product than meta data\n",
    "#If this situation happen, we should delete these extra items from event data"
   ]
  },
  {
   "cell_type": "code",
   "execution_count": 23,
   "metadata": {},
   "outputs": [],
   "source": [
    "meta=list(set(meta_df_reorganized[\"productid\"].values))\n",
    "event=list(set(events_df_reorganized[\"productid\"].values))"
   ]
  },
  {
   "cell_type": "code",
   "execution_count": 24,
   "metadata": {},
   "outputs": [
    {
     "name": "stdout",
     "output_type": "stream",
     "text": [
      "['HBV00000OEL9M', 'HBV00000NVZAC', 'HBV00000P7QJQ', 'HBV00000O2SES', 'HBV00000NVZGK', 'HBV00000OELA8', 'HBV00000O2SFG', 'HBV00000NVZDS', 'HBV00000OEL9I', 'HBV00000PV94C', 'HBV00000NVZ8L', 'HBV00000O2SDQ', 'HBV00000OE7GO', 'HBV00000OELBY', 'HBV00000O2S7F', 'HBV00000O2SFU', 'HBV00000O3C6Z', 'HBV00000U276B', 'HBV00000OE7HX', 'HBV00000SP6XH', 'HBV00000OE855', 'HBV00000TIRUD', 'HBV00000O2S2J', 'HBV00000OELD6', 'HBV00000NVZG6', 'HBV00000O2SGO', 'HBV00000O2SE0', 'HBV00000OE82P', 'HBV00000SP852', 'HBV00000NVZDK', 'HBV00000QU443', 'HBV00000OEL8E', 'HBV00000OELBU', 'HBV00000O2SE8', 'HBV00000PV904', 'HBV00000PQLVV', 'HBV00000O2SJH', 'HBV00000NVZGU', 'HBV00000QUFR0', 'HBV00000PVBW2', 'HBV00000O2SBX', 'HBV00000OE7VI', 'HBV00000OE7B5', 'HBV00000OE7RL', 'HBV00000OEL9Q', 'HBV00000O2SCZ', 'HBV00000U2767', 'HBV00000OELDM', 'HBV00000UOI79', 'HBV00000O3C7B', 'HBV00000OELEO', 'HBV00000PV9DP', 'HBV00000PNGHM', 'HBV00000OE7V9', 'HBV00000PQLVZ', 'HBV00000PNGHS', 'HBV00000PUQBD', 'HBV00000NVZ9U', 'HBV00000PNGHG', 'HBV00000PNGK2', 'HBV00000OELCS', 'HBV00000NVZC4', 'HBV00000NVZ6M', 'HBV00000OEL82', 'HBV00000PV5YA', 'HBV00000NVZEA', 'HBV00000OE7P8', 'HBV00000PV8Y9', 'HBV00000OE7D4', 'HBV00000OEL5O', 'HBV00000O2SF8', 'HBV00000PV9H8', 'HBV00000P7VST', 'HBV00000OEL3E', 'HBV00000O2SFA', 'HBV00000OEL8G', 'HBV00000O2SAF', 'HBV00000PQJVX', 'HBV00000PQJWD', 'HBV00000NVZC0', 'HBV00000PV8ZY', 'HBV00000SP6XL', 'HBV00000PNGI4', 'HBV00000OEL86', 'HBV00000QU44E', 'HBV00000O2SCT', 'HBV00000PNGK6', 'HBV00000PUQDC', 'HBV00000O2SE6', 'HBV00000OE7FN', 'HBV00000OELC2', 'HBV00000OELDE', 'HBV00000OE7UZ', 'HBV00000PQJVR', 'HBV00000O2SCH', 'HBV00000O2SJS', 'HBV00000OE7I2', 'HBV00000OE7BC', 'HBV00000O3C6C', 'HBV00000O2WTM', 'HBV00000OE7UX', 'HBV00000TNRPK', 'HBV00000OE7SD', 'HBV00000PNGJU', 'HBV00000PLGC2', 'HBV00000NVZB6', 'HBV00000UOI76', 'HBV00000OE83D', 'HBV00000O2SCL', 'HBV00000NVZC6', 'HBV00000OELA2', 'HBV00000P7QHI', 'HBV00000O2SH3', 'HBV00000O2SF3', 'HBV00000NVZDA', 'HBV00000OEKVJ', 'HBV00000PV5G3', 'HBV00000OE7RV', 'HBV00000PNGJQ', 'HBV00000NVZFI', 'HBV00000PV7CU', 'HBV00000OE7AF', 'HBV00000NVZCE', 'HBV00000OEL7Q', 'HBV00000OE81Z', 'HBV00000OELDI', 'HBV00000OMH0G', 'HBV00000NVZCG', 'HBV00000O2SDJ', 'HBV00000O2SH5', 'HBV00000U276D', 'HBV00000OEL7G', 'HBV00000O3680', 'HBV00000OEL9W', 'HBV00000OELAK', 'HBV00000SP6ZR', 'HBV00000TIRUR', 'HBV00000OE7KS', 'HBV00000O2SGQ', 'HBV00000PV8ZR', 'HBV00000O2SJ1', 'HBV00000PV91C', 'HBV00000O3C6X', 'HBV00000QX1UT', 'HBV00000O2SG0', 'HBV00000OELAW', 'HBV00000O2S4A', 'HBV00000O2SIX', 'HBV00000OFHW3', 'HBV00000O2SHK', 'HBV00000QX1U7', 'HBV00000PUXFP', 'HBV00000PNGG6', 'HBV00000QUFR2', 'HBV00000O2SFK', 'HBV00000OELBI', 'HBV00000O2SIT', 'HBV00000O2SJW', 'HBV00000NVZES', 'HBV00000O2SG8', 'HBV00000NVZDU', 'HBV00000OFHVY', 'HBV00000NVZBU', 'HBV00000OE7IV', 'HBV00000O2S8X', 'HBV00000PV6XQ', 'HBV00000OELBK', 'HBV00000OEL72', 'HBV00000TKUT6', 'HBV00000NVZBY', 'HBV00000PLGCB', 'HBV00000OEL70', 'HBV00000NVZF8', 'HBV00000PV916', 'HBV00000PNGHI', 'HBV00000NVZBI', 'HBV00000OE7O4', 'HBV00000OE7VK', 'HBV00000SP6XJ', 'HBV00000O2SCF', 'HBV00000PV902', 'HBV00000OE7J7', 'HBV00000O2SEZ', 'HBV00000OE7U3', 'HBV00000QU445', 'HBV00000OELCG', 'HBV00000O2SHY', 'HBV00000PV90D', 'HBV00000UOH9G', 'HBV00000NVZBQ', 'HBV00000NVZG0', 'HBV00000OELE6', 'HBV00000NVZ9S', 'HBV00000NVZCM', 'HBV00000O2WUD', 'HBV00000PNGGI', 'HBV00000PV7C9', 'HBV00000PUQBL', 'HBV00000O2S5Y', 'HBV00000OE81R', 'HBV00000PVQVB', 'HBV00000OE7SJ', 'HBV00000PNGFW', 'HBV00000PV5YI', 'HBV00000OELAG', 'HBV00000NVZGQ', 'HBV00000OELBG', 'HBV00000NVZEQ', 'HBV00000NVZEE', 'HBV00000O2SEV', 'HBV00000O2SC9', 'HBV00000OEL5C', 'HBV00000OE80I', 'HBV00000OELB8', 'HBV00000NVZC2', 'HBV00000TIRUT', 'HBV00000O2S8L', 'HBV00000OE7FS', 'HBV00000PV5MN', 'HBV00000NVZAK', 'HBV00000O2S1P', 'HBV00000O3C6U', 'HBV00000PNGHO', 'HBV00000TIRUH', 'HBV00000O2SGI', 'HBV00000NVZGE', 'HBV00000O2S86', 'HBV00000PNGHQ', 'HBV00000NVZCW', 'HBV00000NVZA8', 'HBV00000QU449', 'HBV00000P7QL0', 'HBV00000O2SFM', 'HBV00000PV9HB', 'HBV00000OE81V', 'HBV00000OE7QQ', 'HBV00000O2SF1', 'HBV00000OEKVF', 'HBV00000OEL9G', 'HBV00000PV90J', 'HBV00000PLGGB', 'HBV00000OE7ZB', 'HBV00000PNGK4', 'HBV00000NVZAS', 'HBV00000NVZE8', 'HBV00000OEL8U', 'HBV00000PV7CC', 'HBV00000PNGI6', 'HBV00000O2SHN', 'HBV00000UOI73', 'HBV00000PQLVT', 'HBV00000U27NF', 'HBV00000PUQCA', 'HBV00000OE7H3', 'HBV00000SF26C', 'HBV00000O2SGG', 'HBV00000NVZFW', 'HBV00000NVZDW', 'HBV00000UMH0K', 'HBV00000PNGI0', 'HBV00000NVZFO', 'HBV00000OE7YN', 'HBV00000NVZFA', 'HBV00000NVZB4', 'HBV00000NVZE0', 'HBV00000OEKYX', 'HBV00000O2SDB', 'HBV00000OE7GG', 'HBV00000OEL8C', 'HBV00000OE81X', 'HBV00000PUQDG', 'HBV00000OELCA', 'HBV00000OE7JF', 'HBV00000NVZA2', 'HBV00000PVR2C', 'HBV00000QX2LX', 'HBV00000PNGK8', 'HBV00000OE7DA', 'HBV00000NVZEC', 'HBV00000PUQBX', 'HBV00000O2SH9', 'HBV00000OELAC', 'HBV00000NVZAO', 'HBV00000OEL8I', 'HBV00000O2SJQ', 'HBV00000O2SJF', 'HBV00000PV8ZT', 'HBV00000OEL9Y', 'HBV00000OEL8O', 'HBV00000PV8ZK', 'HBV00000OEL3Q', 'HBV00000PV8N4', 'HBV00000PV8ZV', 'HBV00000PNGHK', 'HBV00000O2S8V', 'HBV00000OEL58', 'HBV00000PV6O6', 'HBV00000O2SGS', 'HBV00000OE7D6', 'HBV00000TIRUJ', 'HBV00000O2SEC', 'HBV00000PNGIE', 'HBV00000QUFQY', 'HBV00000O2SIV', 'HBV00000OEL9E', 'HBV00000PV8YX', 'HBV00000NVZEW', 'HBV00000NVZD6', 'HBV00000PQLVR', 'HBV00000NVZD0', 'HBV00000NVZBA', 'HBV00000PNGIU', 'HBV00000PV8ZC', 'HBV00000PQIIF', 'HBV00000O3C6I', 'HBV00000PV8YL', 'HBV00000O2SI7', 'HBV00000PV90S', 'HBV00000NVZBW', 'HBV00000PV90B', 'HBV00000OE7HP', 'HBV00000QU447', 'HBV00000OE7VE', 'HBV00000OELB0', 'HBV00000O2SH1', 'HBV00000OEL76', 'HBV00000OEL54', 'HBV00000NVZE4', 'HBV00000P7VSV', 'HBV00000OELCE', 'HBV00000O2SEM', 'HBV00000NVZB2', 'HBV00000OELDK', 'HBV00000UOH86', 'HBV00000OELBA', 'HBV00000OE78P', 'HBV00000PV7CP', 'HBV00000PUQCU', 'HBV00000OEL7C', 'HBV00000O2SFC', 'HBV00000PNGJM', 'HBV00000NVZGC', 'HBV00000OEL9K', 'HBV00000OELBE', 'HBV00000U2765', 'HBV00000OELAM', 'HBV00000OELAU', 'HBV00000OE81N', 'HBV00000NVZAU', 'HBV00000NVZDQ', 'HBV00000NVZDI', 'HBV00000OEL80', 'HBV00000O3C79', 'HBV00000RHR39', 'HBV00000NVZFY', 'HBV00000TDAW1', 'HBV00000O2SHR', 'HBV00000PNGG0', 'HBV00000O2S2G', 'HBV00000PLGKL', 'HBV00000PUQCP', 'HBV00000TIRUP', 'HBV00000SP84O', 'HBV00000OE87R', 'HBV00000OELBW', 'HBV00000PNGGG', 'HBV00000QX24Q', 'HBV00000P7VT4', 'HBV00000OE82D', 'HBV00000UOH9M', 'HBV00000O2SGK', 'HBV00000O3C77', 'HBV00000OEL9O', 'HBV00000OE83T', 'HBV00000OE7J3', 'HBV00000P7VT2', 'HBV00000PV9F3', 'HBV00000U27NH', 'HBV00000O2SCP', 'HBV00000NVZB8', 'HBV00000PNG56', 'HBV00000PV9HX', 'HBV00000O2SGE', 'HBV00000TIRUB', 'HBV00000OELDO', 'HBV00000OE7X7', 'HBV00000QX2LV', 'HBV00000NVZE6', 'HBV00000SP74G', 'HBV00000PV90Q', 'HBV00000QU44G', 'HBV00000O2SJL', 'HBV00000NVZBG', 'HBV00000PV5LB', 'HBV00000PV7BX', 'HBV00000PNGIY', 'HBV00000OEL74', 'HBV00000OE7FV', 'HBV00000NVZCK', 'HBV00000PLGA1', 'HBV00000OE7L3', 'HBV00000OE882', 'HBV00000OE7CN', 'HBV00000P7VSX', 'HBV00000TIRUF', 'HBV00000NVZGM', 'HBV00000OE7MN', 'HBV00000OELFE', 'HBV00000PQLGB', 'HBV00000PQJWB', 'HBV00000NVZBO', 'HBV00000OELBS', 'HBV00000OEL7I', 'HBV00000OE7BI', 'HBV00000NVZAI', 'HBV00000NVZBC', 'HBV00000PV9I1', 'HBV00000PUQDQ', 'HBV00000P7QGR', 'HBV00000NVZF2', 'HBV00000OE80M', 'HBV00000O2SII', 'HBV00000OE83P', 'HBV00000O2SE2', 'HBV00000PUQDN', 'HBV00000NVZFS', 'HBV00000P7QFZ', 'HBV00000PNGIG', 'HBV00000OE8BX', 'HBV00000OELC0', 'HBV00000O2S62', 'HBV00000PVQ5D', 'HBV00000P7QHN', 'HBV00000PNGJI', 'HBV00000NVZA0', 'HBV00000OEL88', 'HBV00000SP84M', 'HBV00000OE84X', 'HBV00000PUQE0', 'HBV00000PNGHW', 'HBV00000O2SD5', 'HBV00000O2SHP', 'HBV00000OEL90', 'HBV00000OELAO', 'HBV00000NVZAM', 'HBV00000O2SHB', 'HBV00000PV9HQ', 'HBV00000O2SDO', 'HBV00000PLGIO', 'HBV00000O2SIK', 'HBV00000O2SEA', 'HBV00000PLGIM', 'HBV00000PVCS6', 'HBV00000OELCC', 'HBV00000OE7UF', 'HBV00000O2SE4', 'HBV00000SP84J', 'HBV00000TIRU5', 'HBV00000PV9FO', 'HBV00000OE7H9', 'HBV00000OELCU', 'HBV00000PV9HT']\n"
     ]
    }
   ],
   "source": [
    "fark=list(set(event) - set(meta))\n",
    "print(fark)"
   ]
  },
  {
   "cell_type": "code",
   "execution_count": 25,
   "metadata": {},
   "outputs": [],
   "source": [
    "#deleting rows that contain items that meta data doesnt contain  anymore\n",
    "for i in range(len(fark)):\n",
    "    events_df_reorganized.drop(events_df_reorganized.index[(events_df_reorganized[\"productid\"] == fark[i])],axis=0,inplace=True)"
   ]
  },
  {
   "cell_type": "code",
   "execution_count": 26,
   "metadata": {},
   "outputs": [
    {
     "name": "stdout",
     "output_type": "stream",
     "text": [
      "[]\n"
     ]
    }
   ],
   "source": [
    "#checking if there is still an item that meta data doesnt contain  anymore\n",
    "meta=list(set(meta_df_reorganized[\"productid\"].values))\n",
    "event=list(set(events_df_reorganized[\"productid\"].values))\n",
    "fark=list(set(event) - set(meta))\n",
    "print(fark)"
   ]
  },
  {
   "cell_type": "code",
   "execution_count": 27,
   "metadata": {},
   "outputs": [
    {
     "name": "stdout",
     "output_type": "stream",
     "text": [
      "(255499, 5)\n",
      "(255499, 5)\n"
     ]
    }
   ],
   "source": [
    "#checking illegal cases (e.g check if there is any negative price)\n",
    "events_df_reorganized[\"price\"] = events_df_reorganized[\"price\"].astype(float)\n",
    "print(events_df_reorganized.shape)\n",
    "events_df_reorganized.drop(events_df_reorganized.index[(events_df_reorganized[\"price\"] <= 0 )],axis=0,inplace=True)\n",
    "print(events_df_reorganized.shape)"
   ]
  },
  {
   "cell_type": "code",
   "execution_count": 28,
   "metadata": {},
   "outputs": [
    {
     "data": {
      "text/html": [
       "<div>\n",
       "<style scoped>\n",
       "    .dataframe tbody tr th:only-of-type {\n",
       "        vertical-align: middle;\n",
       "    }\n",
       "\n",
       "    .dataframe tbody tr th {\n",
       "        vertical-align: top;\n",
       "    }\n",
       "\n",
       "    .dataframe thead th {\n",
       "        text-align: right;\n",
       "    }\n",
       "</style>\n",
       "<table border=\"1\" class=\"dataframe\">\n",
       "  <thead>\n",
       "    <tr style=\"text-align: right;\">\n",
       "      <th></th>\n",
       "      <th>sessionid</th>\n",
       "      <th>productid</th>\n",
       "      <th>time</th>\n",
       "    </tr>\n",
       "  </thead>\n",
       "  <tbody>\n",
       "    <tr>\n",
       "      <th>1</th>\n",
       "      <td>d2ea7bd3-9235-4a9f-a9ea-d7f296e71318</td>\n",
       "      <td>HBV00000U2B18</td>\n",
       "      <td>1.590991e+09</td>\n",
       "    </tr>\n",
       "    <tr>\n",
       "      <th>2</th>\n",
       "      <td>5e594788-78a0-44dd-8e66-37022d48f691</td>\n",
       "      <td>OFIS3101-080</td>\n",
       "      <td>1.590991e+09</td>\n",
       "    </tr>\n",
       "    <tr>\n",
       "      <th>4</th>\n",
       "      <td>9e9d4f7e-898c-40fb-aae9-256c40779933</td>\n",
       "      <td>HBV00000NE0T4</td>\n",
       "      <td>1.590991e+09</td>\n",
       "    </tr>\n",
       "    <tr>\n",
       "      <th>5</th>\n",
       "      <td>9e9d4f7e-898c-40fb-aae9-256c40779933</td>\n",
       "      <td>HBV00000NE0T6</td>\n",
       "      <td>1.590991e+09</td>\n",
       "    </tr>\n",
       "    <tr>\n",
       "      <th>7</th>\n",
       "      <td>bf3a141e-ed91-4dfa-b4e1-de5aadf61d97</td>\n",
       "      <td>HBV00000U2B4I</td>\n",
       "      <td>1.590991e+09</td>\n",
       "    </tr>\n",
       "  </tbody>\n",
       "</table>\n",
       "</div>"
      ],
      "text/plain": [
       "                              sessionid      productid          time\n",
       "1  d2ea7bd3-9235-4a9f-a9ea-d7f296e71318  HBV00000U2B18  1.590991e+09\n",
       "2  5e594788-78a0-44dd-8e66-37022d48f691   OFIS3101-080  1.590991e+09\n",
       "4  9e9d4f7e-898c-40fb-aae9-256c40779933  HBV00000NE0T4  1.590991e+09\n",
       "5  9e9d4f7e-898c-40fb-aae9-256c40779933  HBV00000NE0T6  1.590991e+09\n",
       "7  bf3a141e-ed91-4dfa-b4e1-de5aadf61d97  HBV00000U2B4I  1.590991e+09"
      ]
     },
     "execution_count": 28,
     "metadata": {},
     "output_type": "execute_result"
    }
   ],
   "source": [
    "#since event columns variance is 0 (each entry in column is same) , event column dropped\n",
    "#In session-based and content-based recommender, I didn't utilized price information, price columnn dropped\n",
    "#Converting eventtime column to more easy format, to make comprasion and observion easier\n",
    "#After conversion, time column created and eventtime dropped\n",
    "events_df_reorganized = events_df_reorganized.drop(columns=\"event\")\n",
    "events_df_reorganized = events_df_reorganized.drop(columns=\"price\")\n",
    "events_df_reorganized['time']=events_df_reorganized['eventtime'].apply(lambda x: dt.datetime.strptime(x, '%Y-%m-%dT%H:%M:%S.%fZ').timestamp())\n",
    "events_df_reorganized = events_df_reorganized.drop(columns=\"eventtime\")\n",
    "events_df_reorganized.head()"
   ]
  },
  {
   "cell_type": "code",
   "execution_count": 29,
   "metadata": {},
   "outputs": [
    {
     "name": "stdout",
     "output_type": "stream",
     "text": [
      "(255499, 3)\n",
      "(242802, 3)\n"
     ]
    }
   ],
   "source": [
    "#Handling rare and useless cases\n",
    "#1.Delete session informations' that bought only one item\n",
    "print(events_df_reorganized.shape)\n",
    "session_lengths = events_df_reorganized.groupby('sessionid').size()\n",
    "events_df_reorganized = events_df_reorganized[np.in1d(events_df_reorganized.sessionid, session_lengths[session_lengths>1].index)]\n",
    "print(events_df_reorganized.shape)"
   ]
  },
  {
   "cell_type": "code",
   "execution_count": 30,
   "metadata": {},
   "outputs": [
    {
     "name": "stdout",
     "output_type": "stream",
     "text": [
      "(242802, 3)\n",
      "(234604, 3)\n"
     ]
    }
   ],
   "source": [
    "#2.Delete session informations' that bought unpopular items (items that bought by less than 5 sessions)\n",
    "#After 2nd step, rechecking session informations.Delete session informations' that bought only one item\n",
    "print(events_df_reorganized.shape)\n",
    "item_supports = events_df_reorganized.groupby('productid').size()\n",
    "events_df_reorganized = events_df_reorganized[np.in1d(events_df_reorganized.productid, item_supports[item_supports>=5].index)]\n",
    "session_lengths = events_df_reorganized.groupby('sessionid').size()\n",
    "events_df_reorganized = events_df_reorganized[np.in1d(events_df_reorganized.sessionid, session_lengths[session_lengths>=2].index)]\n",
    "\n",
    "print(events_df_reorganized.shape)"
   ]
  },
  {
   "cell_type": "code",
   "execution_count": 32,
   "metadata": {},
   "outputs": [
    {
     "name": "stdout",
     "output_type": "stream",
     "text": [
      "9773\n",
      "6052\n",
      "[]\n"
     ]
    }
   ],
   "source": [
    "#last check\n",
    "meta=list(set(meta_df_reorganized[\"productid\"].values))\n",
    "event=list(set(events_df_reorganized[\"productid\"].values))\n",
    "print(len(meta))\n",
    "print(len(event))\n",
    "fark=list(set(event) - set(meta))\n",
    "print(fark)"
   ]
  },
  {
   "cell_type": "code",
   "execution_count": 33,
   "metadata": {},
   "outputs": [],
   "source": [
    "events_df_reorganized.to_csv(\"../events_df_reorganized.csv\", sep=',', encoding='utf-8')\n",
    "meta_df_reorganized.to_csv(\"../meta_df_reorganized.csv\", sep=',', encoding='utf-8')"
   ]
  },
  {
   "cell_type": "code",
   "execution_count": null,
   "metadata": {},
   "outputs": [],
   "source": []
  }
 ],
 "metadata": {
  "kernelspec": {
   "display_name": "Python 3",
   "language": "python",
   "name": "python3"
  },
  "language_info": {
   "codemirror_mode": {
    "name": "ipython",
    "version": 3
   },
   "file_extension": ".py",
   "mimetype": "text/x-python",
   "name": "python",
   "nbconvert_exporter": "python",
   "pygments_lexer": "ipython3",
   "version": "3.8.10"
  }
 },
 "nbformat": 4,
 "nbformat_minor": 4
}
