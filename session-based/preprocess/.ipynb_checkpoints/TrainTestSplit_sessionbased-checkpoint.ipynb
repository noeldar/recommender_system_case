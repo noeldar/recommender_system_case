{
 "cells": [
  {
   "cell_type": "code",
   "execution_count": 1,
   "metadata": {},
   "outputs": [],
   "source": [
    "import numpy as np\n",
    "import pandas as pd\n",
    "import datetime as dt"
   ]
  },
  {
   "cell_type": "code",
   "execution_count": 2,
   "metadata": {
    "scrolled": true
   },
   "outputs": [
    {
     "data": {
      "text/html": [
       "<div>\n",
       "<style scoped>\n",
       "    .dataframe tbody tr th:only-of-type {\n",
       "        vertical-align: middle;\n",
       "    }\n",
       "\n",
       "    .dataframe tbody tr th {\n",
       "        vertical-align: top;\n",
       "    }\n",
       "\n",
       "    .dataframe thead th {\n",
       "        text-align: right;\n",
       "    }\n",
       "</style>\n",
       "<table border=\"1\" class=\"dataframe\">\n",
       "  <thead>\n",
       "    <tr style=\"text-align: right;\">\n",
       "      <th></th>\n",
       "      <th>sessionid</th>\n",
       "      <th>eventtime</th>\n",
       "      <th>productid</th>\n",
       "    </tr>\n",
       "  </thead>\n",
       "  <tbody>\n",
       "    <tr>\n",
       "      <th>1</th>\n",
       "      <td>d2ea7bd3-9235-4a9f-a9ea-d7f296e71318</td>\n",
       "      <td>2020-06-01T08:59:46.580Z</td>\n",
       "      <td>HBV00000U2B18</td>\n",
       "    </tr>\n",
       "    <tr>\n",
       "      <th>2</th>\n",
       "      <td>5e594788-78a0-44dd-8e66-37022d48f691</td>\n",
       "      <td>2020-06-01T08:59:33.308Z</td>\n",
       "      <td>OFIS3101-080</td>\n",
       "    </tr>\n",
       "    <tr>\n",
       "      <th>4</th>\n",
       "      <td>9e9d4f7e-898c-40fb-aae9-256c40779933</td>\n",
       "      <td>2020-06-01T08:59:33.888Z</td>\n",
       "      <td>HBV00000NE0T4</td>\n",
       "    </tr>\n",
       "    <tr>\n",
       "      <th>5</th>\n",
       "      <td>9e9d4f7e-898c-40fb-aae9-256c40779933</td>\n",
       "      <td>2020-06-01T08:59:48.226Z</td>\n",
       "      <td>HBV00000NE0T6</td>\n",
       "    </tr>\n",
       "    <tr>\n",
       "      <th>7</th>\n",
       "      <td>bf3a141e-ed91-4dfa-b4e1-de5aadf61d97</td>\n",
       "      <td>2020-06-01T08:59:33.452Z</td>\n",
       "      <td>HBV00000U2B4I</td>\n",
       "    </tr>\n",
       "  </tbody>\n",
       "</table>\n",
       "</div>"
      ],
      "text/plain": [
       "                              sessionid                 eventtime  \\\n",
       "1  d2ea7bd3-9235-4a9f-a9ea-d7f296e71318  2020-06-01T08:59:46.580Z   \n",
       "2  5e594788-78a0-44dd-8e66-37022d48f691  2020-06-01T08:59:33.308Z   \n",
       "4  9e9d4f7e-898c-40fb-aae9-256c40779933  2020-06-01T08:59:33.888Z   \n",
       "5  9e9d4f7e-898c-40fb-aae9-256c40779933  2020-06-01T08:59:48.226Z   \n",
       "7  bf3a141e-ed91-4dfa-b4e1-de5aadf61d97  2020-06-01T08:59:33.452Z   \n",
       "\n",
       "       productid  \n",
       "1  HBV00000U2B18  \n",
       "2   OFIS3101-080  \n",
       "4  HBV00000NE0T4  \n",
       "5  HBV00000NE0T6  \n",
       "7  HBV00000U2B4I  "
      ]
     },
     "execution_count": 2,
     "metadata": {},
     "output_type": "execute_result"
    }
   ],
   "source": [
    "events_df_reorganized=pd.read_csv('../events_df_reorganized.csv',index_col=0)\n"
   ]
  },
  {
   "cell_type": "code",
   "execution_count": 3,
   "metadata": {},
   "outputs": [],
   "source": []
  },
  {
   "cell_type": "code",
   "execution_count": 4,
   "metadata": {},
   "outputs": [
    {
     "data": {
      "text/plain": [
       "'events_df_reorganized[\"sessionid\"] = events_df_reorganized[\"sessionid\"].astype(\\'category\\')\\nevents_df_reorganized[\"productid\"] = events_df_reorganized[\"productid\"].astype(\\'category\\')\\ncat_columns = events_df_reorganized.select_dtypes([\\'category\\']).columns\\nevents_df_reorganized[cat_columns] = events_df_reorganized[cat_columns].apply(lambda x: x.cat.codes)\\nn_sessions = len(list(set(events_df_reorganized[\"sessionid\"].values)))\\nn_products = len(list(set(events_df_reorganized[\"productid\"].values)))\\nprint(n_sessions)\\nprint(n_products)'"
      ]
     },
     "execution_count": 4,
     "metadata": {},
     "output_type": "execute_result"
    }
   ],
   "source": [
    "\"\"\"events_df_reorganized[\"sessionid\"] = events_df_reorganized[\"sessionid\"].astype('category')\n",
    "events_df_reorganized[\"productid\"] = events_df_reorganized[\"productid\"].astype('category')\n",
    "cat_columns = events_df_reorganized.select_dtypes(['category']).columns\n",
    "events_df_reorganized[cat_columns] = events_df_reorganized[cat_columns].apply(lambda x: x.cat.codes)\n",
    "n_sessions = len(list(set(events_df_reorganized[\"sessionid\"].values)))\n",
    "n_products = len(list(set(events_df_reorganized[\"productid\"].values)))\n",
    "print(n_sessions)\n",
    "print(n_products)\"\"\""
   ]
  },
  {
   "cell_type": "code",
   "execution_count": 5,
   "metadata": {
    "scrolled": true
   },
   "outputs": [
    {
     "name": "stdout",
     "output_type": "stream",
     "text": [
      "(255805, 4)\n",
      "(243037, 4)\n"
     ]
    }
   ],
   "source": [
    "print(events_df_reorganized.shape)\n",
    "session_lengths = events_df_reorganized.groupby('sessionid').size()\n",
    "events_df_reorganized = events_df_reorganized[np.in1d(events_df_reorganized.sessionid, session_lengths[session_lengths>1].index)]\n",
    "print(events_df_reorganized.shape)"
   ]
  },
  {
   "cell_type": "code",
   "execution_count": 7,
   "metadata": {},
   "outputs": [],
   "source": [
    "events_df_reorganized = events_df_reorganized.drop(columns=\"eventtime\")"
   ]
  },
  {
   "cell_type": "code",
   "execution_count": 8,
   "metadata": {},
   "outputs": [
    {
     "name": "stdout",
     "output_type": "stream",
     "text": [
      "(243037, 3)\n",
      "(234836, 3)\n"
     ]
    }
   ],
   "source": [
    "print(events_df_reorganized.shape)\n",
    "item_supports = events_df_reorganized.groupby('productid').size()\n",
    "events_df_reorganized = events_df_reorganized[np.in1d(events_df_reorganized.productid, item_supports[item_supports>=5].index)]\n",
    "session_lengths = events_df_reorganized.groupby('sessionid').size()\n",
    "events_df_reorganized = events_df_reorganized[np.in1d(events_df_reorganized.sessionid, session_lengths[session_lengths>=2].index)]\n",
    "\n",
    "print(events_df_reorganized.shape)"
   ]
  },
  {
   "cell_type": "code",
   "execution_count": 6,
   "metadata": {},
   "outputs": [
    {
     "data": {
      "text/plain": [
       "'n_sessions = len(list(set(events_df_reorganized[\"sessionid\"].values)))\\nn_products = len(list(set(events_df_reorganized[\"productid\"].values)))\\nprint(n_sessions)\\nprint(n_products)'"
      ]
     },
     "execution_count": 6,
     "metadata": {},
     "output_type": "execute_result"
    }
   ],
   "source": [
    "\"\"\"n_sessions = len(list(set(events_df_reorganized[\"sessionid\"].values)))\n",
    "n_products = len(list(set(events_df_reorganized[\"productid\"].values)))\n",
    "print(n_sessions)\n",
    "print(n_products)\"\"\""
   ]
  },
  {
   "cell_type": "code",
   "execution_count": 9,
   "metadata": {},
   "outputs": [
    {
     "data": {
      "text/plain": [
       "\"tmax = events_df_reorganized.time.max()\\nsession_max_times = events_df_reorganized.groupby('sessionid').time.max()\\nprint(len(session_max_times))\\nsession_train = session_max_times[session_max_times < tmax-2000000].index\\nprint(len(session_train))\\nsession_test = session_max_times[session_max_times >= tmax-2000000].index\\nprint(len(session_test))\\ntrain = events_df_reorganized[np.in1d(events_df_reorganized.sessionid, session_train)]\\ntest = events_df_reorganized[np.in1d(events_df_reorganized.sessionid, session_test)]\""
      ]
     },
     "execution_count": 9,
     "metadata": {},
     "output_type": "execute_result"
    }
   ],
   "source": [
    "\"\"\"tmax = events_df_reorganized.time.max()\n",
    "session_max_times = events_df_reorganized.groupby('sessionid').time.max()\n",
    "print(len(session_max_times))\n",
    "session_train = session_max_times[session_max_times < tmax-2000000].index\n",
    "print(len(session_train))\n",
    "session_test = session_max_times[session_max_times >= tmax-2000000].index\n",
    "print(len(session_test))\n",
    "train = events_df_reorganized[np.in1d(events_df_reorganized.sessionid, session_train)]\n",
    "test = events_df_reorganized[np.in1d(events_df_reorganized.sessionid, session_test)]\"\"\""
   ]
  },
  {
   "cell_type": "code",
   "execution_count": null,
   "metadata": {},
   "outputs": [],
   "source": []
  },
  {
   "cell_type": "code",
   "execution_count": 10,
   "metadata": {},
   "outputs": [
    {
     "name": "stdout",
     "output_type": "stream",
     "text": [
      "Full train set\n",
      "\tEvents: 138384\n",
      "\tSessions: 15445\n",
      "\tItems: 5955\n",
      "Test set\n",
      "\tEvents: 95609\n",
      "\tSessions: 11773\n",
      "\tItems: 5770\n"
     ]
    }
   ],
   "source": [
    "tmax = events_df_reorganized.time.max()\n",
    "session_max_times = events_df_reorganized.groupby('sessionid').time.max()\n",
    "session_train = session_max_times[session_max_times < tmax-2000000].index\n",
    "session_test = session_max_times[session_max_times >= tmax-2000000].index\n",
    "train = events_df_reorganized[np.in1d(events_df_reorganized.sessionid, session_train)]\n",
    "test = events_df_reorganized[np.in1d(events_df_reorganized.sessionid, session_test)]\n",
    "test = test[np.in1d(test.productid, train.productid)]\n",
    "tslength = test.groupby('sessionid').size()\n",
    "test = test[np.in1d(test.sessionid, tslength[tslength>=2].index)]\n",
    "print('Full train set\\n\\tEvents: {}\\n\\tSessions: {}\\n\\tItems: {}'.format(len(train), train.sessionid.nunique(), train.productid.nunique()))\n",
    "train.to_csv('events_df_reorganized_train_full.txt', sep='\\t', index=False)\n",
    "print('Test set\\n\\tEvents: {}\\n\\tSessions: {}\\n\\tItems: {}'.format(len(test), test.sessionid.nunique(), test.productid.nunique()))\n",
    "test.to_csv('events_df_reorganized_test.txt', sep='\\t', index=False)"
   ]
  },
  {
   "cell_type": "code",
   "execution_count": 11,
   "metadata": {
    "scrolled": true
   },
   "outputs": [
    {
     "data": {
      "text/html": [
       "<div>\n",
       "<style scoped>\n",
       "    .dataframe tbody tr th:only-of-type {\n",
       "        vertical-align: middle;\n",
       "    }\n",
       "\n",
       "    .dataframe tbody tr th {\n",
       "        vertical-align: top;\n",
       "    }\n",
       "\n",
       "    .dataframe thead th {\n",
       "        text-align: right;\n",
       "    }\n",
       "</style>\n",
       "<table border=\"1\" class=\"dataframe\">\n",
       "  <thead>\n",
       "    <tr style=\"text-align: right;\">\n",
       "      <th></th>\n",
       "      <th>sessionid</th>\n",
       "      <th>productid</th>\n",
       "      <th>time</th>\n",
       "    </tr>\n",
       "  </thead>\n",
       "  <tbody>\n",
       "    <tr>\n",
       "      <th>1</th>\n",
       "      <td>d2ea7bd3-9235-4a9f-a9ea-d7f296e71318</td>\n",
       "      <td>HBV00000U2B18</td>\n",
       "      <td>1.590991e+09</td>\n",
       "    </tr>\n",
       "    <tr>\n",
       "      <th>2</th>\n",
       "      <td>5e594788-78a0-44dd-8e66-37022d48f691</td>\n",
       "      <td>OFIS3101-080</td>\n",
       "      <td>1.590991e+09</td>\n",
       "    </tr>\n",
       "    <tr>\n",
       "      <th>4</th>\n",
       "      <td>9e9d4f7e-898c-40fb-aae9-256c40779933</td>\n",
       "      <td>HBV00000NE0T4</td>\n",
       "      <td>1.590991e+09</td>\n",
       "    </tr>\n",
       "    <tr>\n",
       "      <th>5</th>\n",
       "      <td>9e9d4f7e-898c-40fb-aae9-256c40779933</td>\n",
       "      <td>HBV00000NE0T6</td>\n",
       "      <td>1.590991e+09</td>\n",
       "    </tr>\n",
       "    <tr>\n",
       "      <th>7</th>\n",
       "      <td>bf3a141e-ed91-4dfa-b4e1-de5aadf61d97</td>\n",
       "      <td>HBV00000U2B4I</td>\n",
       "      <td>1.590991e+09</td>\n",
       "    </tr>\n",
       "    <tr>\n",
       "      <th>...</th>\n",
       "      <td>...</td>\n",
       "      <td>...</td>\n",
       "      <td>...</td>\n",
       "    </tr>\n",
       "    <tr>\n",
       "      <th>387468</th>\n",
       "      <td>974f9d79-355d-456b-8815-cb42063258be</td>\n",
       "      <td>HBV00000ABCBB</td>\n",
       "      <td>1.591492e+09</td>\n",
       "    </tr>\n",
       "    <tr>\n",
       "      <th>387473</th>\n",
       "      <td>974f9d79-355d-456b-8815-cb42063258be</td>\n",
       "      <td>ZYHEN4438</td>\n",
       "      <td>1.591492e+09</td>\n",
       "    </tr>\n",
       "    <tr>\n",
       "      <th>387474</th>\n",
       "      <td>974f9d79-355d-456b-8815-cb42063258be</td>\n",
       "      <td>ZYHEN100683890</td>\n",
       "      <td>1.591492e+09</td>\n",
       "    </tr>\n",
       "    <tr>\n",
       "      <th>387477</th>\n",
       "      <td>5e25ee2b-52d2-42c7-8b35-867cedf48243</td>\n",
       "      <td>HBV00000NE1DG</td>\n",
       "      <td>1.591492e+09</td>\n",
       "    </tr>\n",
       "    <tr>\n",
       "      <th>387482</th>\n",
       "      <td>5e25ee2b-52d2-42c7-8b35-867cedf48243</td>\n",
       "      <td>ZYBICN9286522</td>\n",
       "      <td>1.591494e+09</td>\n",
       "    </tr>\n",
       "  </tbody>\n",
       "</table>\n",
       "<p>138384 rows × 3 columns</p>\n",
       "</div>"
      ],
      "text/plain": [
       "                                   sessionid       productid          time\n",
       "1       d2ea7bd3-9235-4a9f-a9ea-d7f296e71318   HBV00000U2B18  1.590991e+09\n",
       "2       5e594788-78a0-44dd-8e66-37022d48f691    OFIS3101-080  1.590991e+09\n",
       "4       9e9d4f7e-898c-40fb-aae9-256c40779933   HBV00000NE0T4  1.590991e+09\n",
       "5       9e9d4f7e-898c-40fb-aae9-256c40779933   HBV00000NE0T6  1.590991e+09\n",
       "7       bf3a141e-ed91-4dfa-b4e1-de5aadf61d97   HBV00000U2B4I  1.590991e+09\n",
       "...                                      ...             ...           ...\n",
       "387468  974f9d79-355d-456b-8815-cb42063258be   HBV00000ABCBB  1.591492e+09\n",
       "387473  974f9d79-355d-456b-8815-cb42063258be       ZYHEN4438  1.591492e+09\n",
       "387474  974f9d79-355d-456b-8815-cb42063258be  ZYHEN100683890  1.591492e+09\n",
       "387477  5e25ee2b-52d2-42c7-8b35-867cedf48243   HBV00000NE1DG  1.591492e+09\n",
       "387482  5e25ee2b-52d2-42c7-8b35-867cedf48243   ZYBICN9286522  1.591494e+09\n",
       "\n",
       "[138384 rows x 3 columns]"
      ]
     },
     "execution_count": 11,
     "metadata": {},
     "output_type": "execute_result"
    }
   ],
   "source": [
    "train"
   ]
  },
  {
   "cell_type": "code",
   "execution_count": 12,
   "metadata": {},
   "outputs": [
    {
     "name": "stdout",
     "output_type": "stream",
     "text": [
      "(15445,)\n",
      "10755\n",
      "4690\n",
      "Train set\n",
      "\tEvents: 97562\n",
      "\tSessions: 10755\n",
      "\tItems: 5775\n",
      "Validation set\n",
      "\tEvents: 40226\n",
      "\tSessions: 4623\n",
      "\tItems: 4779\n"
     ]
    }
   ],
   "source": [
    "tmax = train.time.max()\n",
    "session_max_times = train.groupby('sessionid').time.max()\n",
    "print(session_max_times.shape)\n",
    "session_train = session_max_times[session_max_times < tmax-250000].index\n",
    "print(len(session_train))\n",
    "session_valid = session_max_times[session_max_times >= tmax-250000].index\n",
    "print(len(session_valid))\n",
    "train_tr = train[np.in1d(train.sessionid, session_train)]\n",
    "valid = train[np.in1d(train.sessionid, session_valid)]\n",
    "valid = valid[np.in1d(valid.productid, train_tr.productid)]\n",
    "tslength = valid.groupby('sessionid').size()\n",
    "valid = valid[np.in1d(valid.sessionid, tslength[tslength>=2].index)]\n",
    "print('Train set\\n\\tEvents: {}\\n\\tSessions: {}\\n\\tItems: {}'.format(len(train_tr), train_tr.sessionid.nunique(), train_tr.productid.nunique()))\n",
    "train_tr.to_csv('train_tr.txt', sep='\\t', index=False)\n",
    "print('Validation set\\n\\tEvents: {}\\n\\tSessions: {}\\n\\tItems: {}'.format(len(valid), valid.sessionid.nunique(), valid.productid.nunique()))\n",
    "valid.to_csv('train_valid.txt', sep='\\t', index=False)"
   ]
  },
  {
   "cell_type": "code",
   "execution_count": 13,
   "metadata": {},
   "outputs": [
    {
     "data": {
      "text/plain": [
       "1591572890.614"
      ]
     },
     "execution_count": 13,
     "metadata": {},
     "output_type": "execute_result"
    }
   ],
   "source": [
    "tmax"
   ]
  },
  {
   "cell_type": "code",
   "execution_count": null,
   "metadata": {},
   "outputs": [],
   "source": []
  }
 ],
 "metadata": {
  "kernelspec": {
   "display_name": "Python 3",
   "language": "python",
   "name": "python3"
  },
  "language_info": {
   "codemirror_mode": {
    "name": "ipython",
    "version": 3
   },
   "file_extension": ".py",
   "mimetype": "text/x-python",
   "name": "python",
   "nbconvert_exporter": "python",
   "pygments_lexer": "ipython3",
   "version": "3.8.10"
  }
 },
 "nbformat": 4,
 "nbformat_minor": 4
}
