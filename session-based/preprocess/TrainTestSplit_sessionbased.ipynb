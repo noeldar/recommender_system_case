{
 "cells": [
  {
   "cell_type": "code",
   "execution_count": 1,
   "metadata": {},
   "outputs": [],
   "source": [
    "import numpy as np\n",
    "import pandas as pd\n",
    "import datetime as dt"
   ]
  },
  {
   "cell_type": "code",
   "execution_count": 3,
   "metadata": {
    "scrolled": true
   },
   "outputs": [],
   "source": [
    "#uploading preprocessed data\n",
    "events_df_reorganized=pd.read_csv('../../events_df_reorganized.csv',index_col=0)\n"
   ]
  },
  {
   "cell_type": "code",
   "execution_count": 4,
   "metadata": {},
   "outputs": [],
   "source": [
    "#in session-based recommender system, RNN tries to predict the next item that will be bought in a session\n",
    "#To evaluate the performance of our RNN system, we should split the data according to this goal"
   ]
  },
  {
   "cell_type": "code",
   "execution_count": 5,
   "metadata": {},
   "outputs": [],
   "source": [
    "#I determined a certain time point\n",
    "#Buying operations that happened before these time point become train data\n",
    "#Buying operations that happened after these time point become test data"
   ]
  },
  {
   "cell_type": "code",
   "execution_count": 6,
   "metadata": {
    "scrolled": true
   },
   "outputs": [],
   "source": [
    "tmax = events_df_reorganized.time.max()\n",
    "session_max_times = events_df_reorganized.groupby('sessionid').time.max()\n",
    "session_train = session_max_times[session_max_times < tmax-2000000].index\n",
    "session_test = session_max_times[session_max_times >= tmax-2000000].index\n",
    "train = events_df_reorganized[np.in1d(events_df_reorganized.sessionid, session_train)]\n",
    "test = events_df_reorganized[np.in1d(events_df_reorganized.sessionid, session_test)]"
   ]
  },
  {
   "cell_type": "code",
   "execution_count": 7,
   "metadata": {},
   "outputs": [],
   "source": [
    "#In this RNN structure, when an input is given, RNN estimates the probability of each item being the next item to be retrieved.\n",
    "#Because of that, test data must not contain any different item than train data\n",
    "test = test[np.in1d(test.productid, train.productid)]\n",
    "#After this preprocessing, we should recheck that in every session, in test data bought at least 2 products\n",
    "tslength = test.groupby('sessionid').size()\n",
    "test = test[np.in1d(test.sessionid, tslength[tslength>=2].index)]"
   ]
  },
  {
   "cell_type": "code",
   "execution_count": 8,
   "metadata": {},
   "outputs": [
    {
     "name": "stdout",
     "output_type": "stream",
     "text": [
      "Full train set\n",
      "\tEvents: 138253\n",
      "\tSessions: 15424\n",
      "\tItems: 5952\n",
      "Test set\n",
      "\tEvents: 95508\n",
      "\tSessions: 11753\n",
      "\tItems: 5767\n"
     ]
    }
   ],
   "source": [
    "print('Full train set\\n\\tEvents: {}\\n\\tSessions: {}\\n\\tItems: {}'.format(len(train), train.sessionid.nunique(), train.productid.nunique()))\n",
    "train.to_csv('events_df_reorganized_train_full.txt', sep='\\t', index=False)\n",
    "print('Test set\\n\\tEvents: {}\\n\\tSessions: {}\\n\\tItems: {}'.format(len(test), test.sessionid.nunique(), test.productid.nunique()))\n",
    "test.to_csv('events_df_reorganized_test.txt', sep='\\t', index=False)"
   ]
  },
  {
   "cell_type": "code",
   "execution_count": 9,
   "metadata": {},
   "outputs": [
    {
     "name": "stdout",
     "output_type": "stream",
     "text": [
      "(15424,)\n",
      "10737\n",
      "4687\n",
      "Train set\n",
      "\tEvents: 97453\n",
      "\tSessions: 10737\n",
      "\tItems: 5772\n",
      "Validation set\n",
      "\tEvents: 40204\n",
      "\tSessions: 4620\n",
      "\tItems: 4777\n"
     ]
    }
   ],
   "source": [
    "#same processes repeated to create dev and tr data\n",
    "tmax = train.time.max()\n",
    "session_max_times = train.groupby('sessionid').time.max()\n",
    "print(session_max_times.shape)\n",
    "session_train = session_max_times[session_max_times < tmax-250000].index\n",
    "print(len(session_train))\n",
    "session_valid = session_max_times[session_max_times >= tmax-250000].index\n",
    "print(len(session_valid))\n",
    "train_tr = train[np.in1d(train.sessionid, session_train)]\n",
    "valid = train[np.in1d(train.sessionid, session_valid)]\n",
    "valid = valid[np.in1d(valid.productid, train_tr.productid)]\n",
    "tslength = valid.groupby('sessionid').size()\n",
    "valid = valid[np.in1d(valid.sessionid, tslength[tslength>=2].index)]\n",
    "print('Train set\\n\\tEvents: {}\\n\\tSessions: {}\\n\\tItems: {}'.format(len(train_tr), train_tr.sessionid.nunique(), train_tr.productid.nunique()))\n",
    "train_tr.to_csv('train_tr.txt', sep='\\t', index=False)\n",
    "print('Validation set\\n\\tEvents: {}\\n\\tSessions: {}\\n\\tItems: {}'.format(len(valid), valid.sessionid.nunique(), valid.productid.nunique()))\n",
    "valid.to_csv('train_valid.txt', sep='\\t', index=False)"
   ]
  },
  {
   "cell_type": "code",
   "execution_count": null,
   "metadata": {},
   "outputs": [],
   "source": []
  },
  {
   "cell_type": "code",
   "execution_count": null,
   "metadata": {},
   "outputs": [],
   "source": []
  },
  {
   "cell_type": "code",
   "execution_count": 10,
   "metadata": {},
   "outputs": [
    {
     "name": "stdout",
     "output_type": "stream",
     "text": [
      "Full train set\n",
      "\tEvents: 138384\n",
      "\tSessions: 15445\n",
      "\tItems: 5955\n",
      "Test set\n",
      "\tEvents: 95609\n",
      "\tSessions: 11773\n",
      "\tItems: 5770\n"
     ]
    }
   ],
   "source": [
    "\n",
    "\n",
    "\n"
   ]
  },
  {
   "cell_type": "code",
   "execution_count": 11,
   "metadata": {
    "scrolled": true
   },
   "outputs": [
    {
     "data": {
      "text/html": [
       "<div>\n",
       "<style scoped>\n",
       "    .dataframe tbody tr th:only-of-type {\n",
       "        vertical-align: middle;\n",
       "    }\n",
       "\n",
       "    .dataframe tbody tr th {\n",
       "        vertical-align: top;\n",
       "    }\n",
       "\n",
       "    .dataframe thead th {\n",
       "        text-align: right;\n",
       "    }\n",
       "</style>\n",
       "<table border=\"1\" class=\"dataframe\">\n",
       "  <thead>\n",
       "    <tr style=\"text-align: right;\">\n",
       "      <th></th>\n",
       "      <th>sessionid</th>\n",
       "      <th>productid</th>\n",
       "      <th>time</th>\n",
       "    </tr>\n",
       "  </thead>\n",
       "  <tbody>\n",
       "    <tr>\n",
       "      <th>1</th>\n",
       "      <td>d2ea7bd3-9235-4a9f-a9ea-d7f296e71318</td>\n",
       "      <td>HBV00000U2B18</td>\n",
       "      <td>1.590991e+09</td>\n",
       "    </tr>\n",
       "    <tr>\n",
       "      <th>2</th>\n",
       "      <td>5e594788-78a0-44dd-8e66-37022d48f691</td>\n",
       "      <td>OFIS3101-080</td>\n",
       "      <td>1.590991e+09</td>\n",
       "    </tr>\n",
       "    <tr>\n",
       "      <th>4</th>\n",
       "      <td>9e9d4f7e-898c-40fb-aae9-256c40779933</td>\n",
       "      <td>HBV00000NE0T4</td>\n",
       "      <td>1.590991e+09</td>\n",
       "    </tr>\n",
       "    <tr>\n",
       "      <th>5</th>\n",
       "      <td>9e9d4f7e-898c-40fb-aae9-256c40779933</td>\n",
       "      <td>HBV00000NE0T6</td>\n",
       "      <td>1.590991e+09</td>\n",
       "    </tr>\n",
       "    <tr>\n",
       "      <th>7</th>\n",
       "      <td>bf3a141e-ed91-4dfa-b4e1-de5aadf61d97</td>\n",
       "      <td>HBV00000U2B4I</td>\n",
       "      <td>1.590991e+09</td>\n",
       "    </tr>\n",
       "    <tr>\n",
       "      <th>...</th>\n",
       "      <td>...</td>\n",
       "      <td>...</td>\n",
       "      <td>...</td>\n",
       "    </tr>\n",
       "    <tr>\n",
       "      <th>387468</th>\n",
       "      <td>974f9d79-355d-456b-8815-cb42063258be</td>\n",
       "      <td>HBV00000ABCBB</td>\n",
       "      <td>1.591492e+09</td>\n",
       "    </tr>\n",
       "    <tr>\n",
       "      <th>387473</th>\n",
       "      <td>974f9d79-355d-456b-8815-cb42063258be</td>\n",
       "      <td>ZYHEN4438</td>\n",
       "      <td>1.591492e+09</td>\n",
       "    </tr>\n",
       "    <tr>\n",
       "      <th>387474</th>\n",
       "      <td>974f9d79-355d-456b-8815-cb42063258be</td>\n",
       "      <td>ZYHEN100683890</td>\n",
       "      <td>1.591492e+09</td>\n",
       "    </tr>\n",
       "    <tr>\n",
       "      <th>387477</th>\n",
       "      <td>5e25ee2b-52d2-42c7-8b35-867cedf48243</td>\n",
       "      <td>HBV00000NE1DG</td>\n",
       "      <td>1.591492e+09</td>\n",
       "    </tr>\n",
       "    <tr>\n",
       "      <th>387482</th>\n",
       "      <td>5e25ee2b-52d2-42c7-8b35-867cedf48243</td>\n",
       "      <td>ZYBICN9286522</td>\n",
       "      <td>1.591494e+09</td>\n",
       "    </tr>\n",
       "  </tbody>\n",
       "</table>\n",
       "<p>138384 rows × 3 columns</p>\n",
       "</div>"
      ],
      "text/plain": [
       "                                   sessionid       productid          time\n",
       "1       d2ea7bd3-9235-4a9f-a9ea-d7f296e71318   HBV00000U2B18  1.590991e+09\n",
       "2       5e594788-78a0-44dd-8e66-37022d48f691    OFIS3101-080  1.590991e+09\n",
       "4       9e9d4f7e-898c-40fb-aae9-256c40779933   HBV00000NE0T4  1.590991e+09\n",
       "5       9e9d4f7e-898c-40fb-aae9-256c40779933   HBV00000NE0T6  1.590991e+09\n",
       "7       bf3a141e-ed91-4dfa-b4e1-de5aadf61d97   HBV00000U2B4I  1.590991e+09\n",
       "...                                      ...             ...           ...\n",
       "387468  974f9d79-355d-456b-8815-cb42063258be   HBV00000ABCBB  1.591492e+09\n",
       "387473  974f9d79-355d-456b-8815-cb42063258be       ZYHEN4438  1.591492e+09\n",
       "387474  974f9d79-355d-456b-8815-cb42063258be  ZYHEN100683890  1.591492e+09\n",
       "387477  5e25ee2b-52d2-42c7-8b35-867cedf48243   HBV00000NE1DG  1.591492e+09\n",
       "387482  5e25ee2b-52d2-42c7-8b35-867cedf48243   ZYBICN9286522  1.591494e+09\n",
       "\n",
       "[138384 rows x 3 columns]"
      ]
     },
     "execution_count": 11,
     "metadata": {},
     "output_type": "execute_result"
    }
   ],
   "source": [
    "train"
   ]
  },
  {
   "cell_type": "code",
   "execution_count": 12,
   "metadata": {},
   "outputs": [
    {
     "name": "stdout",
     "output_type": "stream",
     "text": [
      "(15445,)\n",
      "10755\n",
      "4690\n",
      "Train set\n",
      "\tEvents: 97562\n",
      "\tSessions: 10755\n",
      "\tItems: 5775\n",
      "Validation set\n",
      "\tEvents: 40226\n",
      "\tSessions: 4623\n",
      "\tItems: 4779\n"
     ]
    }
   ],
   "source": []
  },
  {
   "cell_type": "code",
   "execution_count": 13,
   "metadata": {},
   "outputs": [
    {
     "data": {
      "text/plain": [
       "1591572890.614"
      ]
     },
     "execution_count": 13,
     "metadata": {},
     "output_type": "execute_result"
    }
   ],
   "source": [
    "tmax"
   ]
  },
  {
   "cell_type": "code",
   "execution_count": null,
   "metadata": {},
   "outputs": [],
   "source": []
  }
 ],
 "metadata": {
  "kernelspec": {
   "display_name": "Python 3",
   "language": "python",
   "name": "python3"
  },
  "language_info": {
   "codemirror_mode": {
    "name": "ipython",
    "version": 3
   },
   "file_extension": ".py",
   "mimetype": "text/x-python",
   "name": "python",
   "nbconvert_exporter": "python",
   "pygments_lexer": "ipython3",
   "version": "3.8.10"
  }
 },
 "nbformat": 4,
 "nbformat_minor": 4
}
