{
 "cells": [
  {
   "cell_type": "code",
   "execution_count": null,
   "metadata": {
    "scrolled": true
   },
   "outputs": [],
   "source": []
  },
  {
   "cell_type": "code",
   "execution_count": null,
   "metadata": {},
   "outputs": [],
   "source": []
  },
  {
   "cell_type": "code",
   "execution_count": null,
   "metadata": {
    "scrolled": true
   },
   "outputs": [],
   "source": []
  },
  {
   "cell_type": "code",
   "execution_count": null,
   "metadata": {},
   "outputs": [],
   "source": []
  },
  {
   "cell_type": "code",
   "execution_count": 1,
   "metadata": {
    "scrolled": true
   },
   "outputs": [
    {
     "data": {
      "text/html": [
       "<div>\n",
       "<style scoped>\n",
       "    .dataframe tbody tr th:only-of-type {\n",
       "        vertical-align: middle;\n",
       "    }\n",
       "\n",
       "    .dataframe tbody tr th {\n",
       "        vertical-align: top;\n",
       "    }\n",
       "\n",
       "    .dataframe thead th {\n",
       "        text-align: right;\n",
       "    }\n",
       "</style>\n",
       "<table border=\"1\" class=\"dataframe\">\n",
       "  <thead>\n",
       "    <tr style=\"text-align: right;\">\n",
       "      <th></th>\n",
       "      <th>event</th>\n",
       "      <th>sessionid</th>\n",
       "      <th>eventtime</th>\n",
       "      <th>price</th>\n",
       "      <th>productid</th>\n",
       "    </tr>\n",
       "  </thead>\n",
       "  <tbody>\n",
       "    <tr>\n",
       "      <th>0</th>\n",
       "      <td>cart</td>\n",
       "      <td>a0655eee-1267-4820-af21-ad8ac068ff7a</td>\n",
       "      <td>2020-06-01T08:59:16.406Z</td>\n",
       "      <td>14.48</td>\n",
       "      <td>HBV00000NVZE8</td>\n",
       "    </tr>\n",
       "    <tr>\n",
       "      <th>1</th>\n",
       "      <td>cart</td>\n",
       "      <td>d2ea7bd3-9235-4a9f-a9ea-d7f296e71318</td>\n",
       "      <td>2020-06-01T08:59:46.580Z</td>\n",
       "      <td>49.90</td>\n",
       "      <td>HBV00000U2B18</td>\n",
       "    </tr>\n",
       "    <tr>\n",
       "      <th>2</th>\n",
       "      <td>cart</td>\n",
       "      <td>5e594788-78a0-44dd-8e66-37022d48f691</td>\n",
       "      <td>2020-06-01T08:59:33.308Z</td>\n",
       "      <td>1.99</td>\n",
       "      <td>OFIS3101-080</td>\n",
       "    </tr>\n",
       "    <tr>\n",
       "      <th>3</th>\n",
       "      <td>cart</td>\n",
       "      <td>fdfeb652-22fa-4153-b9b5-4dfa0dcaffdf</td>\n",
       "      <td>2020-06-01T08:59:31.911Z</td>\n",
       "      <td>2.25</td>\n",
       "      <td>HBV00000NVZBW</td>\n",
       "    </tr>\n",
       "    <tr>\n",
       "      <th>4</th>\n",
       "      <td>cart</td>\n",
       "      <td>9e9d4f7e-898c-40fb-aae9-256c40779933</td>\n",
       "      <td>2020-06-01T08:59:33.888Z</td>\n",
       "      <td>9.95</td>\n",
       "      <td>HBV00000NE0T4</td>\n",
       "    </tr>\n",
       "  </tbody>\n",
       "</table>\n",
       "</div>"
      ],
      "text/plain": [
       "  event                             sessionid                 eventtime  \\\n",
       "0  cart  a0655eee-1267-4820-af21-ad8ac068ff7a  2020-06-01T08:59:16.406Z   \n",
       "1  cart  d2ea7bd3-9235-4a9f-a9ea-d7f296e71318  2020-06-01T08:59:46.580Z   \n",
       "2  cart  5e594788-78a0-44dd-8e66-37022d48f691  2020-06-01T08:59:33.308Z   \n",
       "3  cart  fdfeb652-22fa-4153-b9b5-4dfa0dcaffdf  2020-06-01T08:59:31.911Z   \n",
       "4  cart  9e9d4f7e-898c-40fb-aae9-256c40779933  2020-06-01T08:59:33.888Z   \n",
       "\n",
       "   price      productid  \n",
       "0  14.48  HBV00000NVZE8  \n",
       "1  49.90  HBV00000U2B18  \n",
       "2   1.99   OFIS3101-080  \n",
       "3   2.25  HBV00000NVZBW  \n",
       "4   9.95  HBV00000NE0T4  "
      ]
     },
     "execution_count": 1,
     "metadata": {},
     "output_type": "execute_result"
    }
   ],
   "source": [
    "#reading event.json and creating pandas dataframe\n",
    "import pandas as pd\n",
    "events_df = pd.read_json('../events.json')\n",
    "events_df_reorganized=pd.DataFrame(list(events_df[\"events\"]))\n",
    "events_df_reorganized.head()"
   ]
  },
  {
   "cell_type": "code",
   "execution_count": 2,
   "metadata": {},
   "outputs": [
    {
     "data": {
      "text/html": [
       "<div>\n",
       "<style scoped>\n",
       "    .dataframe tbody tr th:only-of-type {\n",
       "        vertical-align: middle;\n",
       "    }\n",
       "\n",
       "    .dataframe tbody tr th {\n",
       "        vertical-align: top;\n",
       "    }\n",
       "\n",
       "    .dataframe thead th {\n",
       "        text-align: right;\n",
       "    }\n",
       "</style>\n",
       "<table border=\"1\" class=\"dataframe\">\n",
       "  <thead>\n",
       "    <tr style=\"text-align: right;\">\n",
       "      <th></th>\n",
       "      <th>event</th>\n",
       "      <th>sessionid</th>\n",
       "      <th>eventtime</th>\n",
       "      <th>price</th>\n",
       "      <th>productid</th>\n",
       "    </tr>\n",
       "  </thead>\n",
       "  <tbody>\n",
       "    <tr>\n",
       "      <th>0</th>\n",
       "      <td>cart</td>\n",
       "      <td>a0655eee-1267-4820-af21-ad8ac068ff7a</td>\n",
       "      <td>2020-06-01T08:59:16.406Z</td>\n",
       "      <td>14.48</td>\n",
       "      <td>HBV00000NVZE8</td>\n",
       "    </tr>\n",
       "    <tr>\n",
       "      <th>1</th>\n",
       "      <td>cart</td>\n",
       "      <td>d2ea7bd3-9235-4a9f-a9ea-d7f296e71318</td>\n",
       "      <td>2020-06-01T08:59:46.580Z</td>\n",
       "      <td>49.90</td>\n",
       "      <td>HBV00000U2B18</td>\n",
       "    </tr>\n",
       "    <tr>\n",
       "      <th>2</th>\n",
       "      <td>cart</td>\n",
       "      <td>5e594788-78a0-44dd-8e66-37022d48f691</td>\n",
       "      <td>2020-06-01T08:59:33.308Z</td>\n",
       "      <td>1.99</td>\n",
       "      <td>OFIS3101-080</td>\n",
       "    </tr>\n",
       "    <tr>\n",
       "      <th>3</th>\n",
       "      <td>cart</td>\n",
       "      <td>fdfeb652-22fa-4153-b9b5-4dfa0dcaffdf</td>\n",
       "      <td>2020-06-01T08:59:31.911Z</td>\n",
       "      <td>2.25</td>\n",
       "      <td>HBV00000NVZBW</td>\n",
       "    </tr>\n",
       "    <tr>\n",
       "      <th>4</th>\n",
       "      <td>cart</td>\n",
       "      <td>9e9d4f7e-898c-40fb-aae9-256c40779933</td>\n",
       "      <td>2020-06-01T08:59:33.888Z</td>\n",
       "      <td>9.95</td>\n",
       "      <td>HBV00000NE0T4</td>\n",
       "    </tr>\n",
       "  </tbody>\n",
       "</table>\n",
       "</div>"
      ],
      "text/plain": [
       "  event                             sessionid                 eventtime  \\\n",
       "0  cart  a0655eee-1267-4820-af21-ad8ac068ff7a  2020-06-01T08:59:16.406Z   \n",
       "1  cart  d2ea7bd3-9235-4a9f-a9ea-d7f296e71318  2020-06-01T08:59:46.580Z   \n",
       "2  cart  5e594788-78a0-44dd-8e66-37022d48f691  2020-06-01T08:59:33.308Z   \n",
       "3  cart  fdfeb652-22fa-4153-b9b5-4dfa0dcaffdf  2020-06-01T08:59:31.911Z   \n",
       "4  cart  9e9d4f7e-898c-40fb-aae9-256c40779933  2020-06-01T08:59:33.888Z   \n",
       "\n",
       "   price      productid  \n",
       "0  14.48  HBV00000NVZE8  \n",
       "1  49.90  HBV00000U2B18  \n",
       "2   1.99   OFIS3101-080  \n",
       "3   2.25  HBV00000NVZBW  \n",
       "4   9.95  HBV00000NE0T4  "
      ]
     },
     "execution_count": 2,
     "metadata": {},
     "output_type": "execute_result"
    }
   ],
   "source": [
    "#deleting rows that contain None elements\n",
    "events_df_reorganized=events_df_reorganized.mask(events_df_reorganized.eq('None')).dropna()\n",
    "events_df_reorganized.head()"
   ]
  },
  {
   "cell_type": "code",
   "execution_count": 3,
   "metadata": {},
   "outputs": [
    {
     "name": "stdout",
     "output_type": "stream",
     "text": [
      "(387650, 5)\n",
      "(387650, 5)\n"
     ]
    }
   ],
   "source": [
    "#checking illegal cases (e.g check if there is any negative price)\n",
    "events_df_reorganized[\"price\"] = events_df_reorganized[\"price\"].astype(float)\n",
    "print(events_df_reorganized.shape)\n",
    "events_df_reorganized.drop(events_df_reorganized.index[(events_df_reorganized[\"price\"] <= 0 )],axis=0,inplace=True)\n",
    "print(events_df_reorganized.shape)"
   ]
  },
  {
   "cell_type": "code",
   "execution_count": null,
   "metadata": {},
   "outputs": [],
   "source": [
    "#since event columns variance is 0 (each entry in column is same) , event column dropped\n",
    "#In session-based and content-based recommender, I didn't utilized price information, price columnn dropped\n",
    "#Converting eventtime column to more easy format, to make comprasion and observion easier\n",
    "#After conversion, time column created and eventtime dropped\n",
    "events_df_reorganized = events_df_reorganized.drop(columns=\"event\")\n",
    "events_df_reorganized = events_df_reorganized.drop(columns=\"price\")\n",
    "events_df_reorganized['time']=events_df_reorganized['eventtime'].apply(lambda x: dt.datetime.strptime(x, '%Y-%m-%dT%H:%M:%S.%fZ').timestamp())\n",
    "events_df_reorganized = events_df_reorganized.drop(columns=\"eventtime\")\n",
    "events_df_reorganized.head()"
   ]
  },
  {
   "cell_type": "code",
   "execution_count": null,
   "metadata": {},
   "outputs": [],
   "source": [
    "#Handling rare and useless cases\n",
    "#1.Delete session informations' that bought only one item\n",
    "print(events_df_reorganized.shape)\n",
    "session_lengths = events_df_reorganized.groupby('sessionid').size()\n",
    "events_df_reorganized = events_df_reorganized[np.in1d(events_df_reorganized.sessionid, session_lengths[session_lengths>1].index)]\n",
    "print(events_df_reorganized.shape)"
   ]
  },
  {
   "cell_type": "code",
   "execution_count": null,
   "metadata": {},
   "outputs": [],
   "source": [
    "#2.Delete session informations' that bought unpopular items (items that bought by less than 5 sessions)\n",
    "#After 2nd step, rechecking session informations.Delete session informations' that bought only one item\n",
    "print(events_df_reorganized.shape)\n",
    "item_supports = events_df_reorganized.groupby('productid').size()\n",
    "events_df_reorganized = events_df_reorganized[np.in1d(events_df_reorganized.productid, item_supports[item_supports>=5].index)]\n",
    "session_lengths = events_df_reorganized.groupby('sessionid').size()\n",
    "events_df_reorganized = events_df_reorganized[np.in1d(events_df_reorganized.sessionid, session_lengths[session_lengths>=2].index)]\n",
    "\n",
    "print(events_df_reorganized.shape)"
   ]
  },
  {
   "cell_type": "code",
   "execution_count": 9,
   "metadata": {},
   "outputs": [],
   "source": [
    "meta_df = pd.read_json('../meta.json')\n",
    "meta_df_reorganized = pd.DataFrame(list(meta_df[\"meta\"]))"
   ]
  },
  {
   "cell_type": "code",
   "execution_count": 10,
   "metadata": {},
   "outputs": [
    {
     "data": {
      "text/html": [
       "<div>\n",
       "<style scoped>\n",
       "    .dataframe tbody tr th:only-of-type {\n",
       "        vertical-align: middle;\n",
       "    }\n",
       "\n",
       "    .dataframe tbody tr th {\n",
       "        vertical-align: top;\n",
       "    }\n",
       "\n",
       "    .dataframe thead th {\n",
       "        text-align: right;\n",
       "    }\n",
       "</style>\n",
       "<table border=\"1\" class=\"dataframe\">\n",
       "  <thead>\n",
       "    <tr style=\"text-align: right;\">\n",
       "      <th></th>\n",
       "      <th>productid</th>\n",
       "      <th>brand</th>\n",
       "      <th>category</th>\n",
       "      <th>subcategory</th>\n",
       "      <th>name</th>\n",
       "    </tr>\n",
       "  </thead>\n",
       "  <tbody>\n",
       "    <tr>\n",
       "      <th>0</th>\n",
       "      <td>HBV00000AX6LR</td>\n",
       "      <td>Palette</td>\n",
       "      <td>Kişisel Bakım</td>\n",
       "      <td>Saç Bakımı</td>\n",
       "      <td>Palette Kalıcı Doğal Renkler 10-4 PAPATYA</td>\n",
       "    </tr>\n",
       "    <tr>\n",
       "      <th>1</th>\n",
       "      <td>HBV00000BSAQG</td>\n",
       "      <td>Best</td>\n",
       "      <td>Pet Shop</td>\n",
       "      <td>Kedi</td>\n",
       "      <td>Best Pet Jöle İçinde Parça Etli Somonlu Konser...</td>\n",
       "    </tr>\n",
       "    <tr>\n",
       "      <th>2</th>\n",
       "      <td>HBV00000JUHBA</td>\n",
       "      <td>Tarım Kredi</td>\n",
       "      <td>Temel Gıda</td>\n",
       "      <td>Bakliyat, Pirinç, Makarna</td>\n",
       "      <td>Türkiye Tarım Kredi Koop.Yeşil Mercimek 1 kg</td>\n",
       "    </tr>\n",
       "    <tr>\n",
       "      <th>3</th>\n",
       "      <td>HBV00000NE0QI</td>\n",
       "      <td>Namet</td>\n",
       "      <td>Et, Balık, Şarküteri</td>\n",
       "      <td>Şarküteri</td>\n",
       "      <td>Namet Fıstıklı Macar Salam 100 gr</td>\n",
       "    </tr>\n",
       "    <tr>\n",
       "      <th>4</th>\n",
       "      <td>HBV00000NE0UQ</td>\n",
       "      <td>Muratbey</td>\n",
       "      <td>Kahvaltılık ve Süt</td>\n",
       "      <td>Peynir</td>\n",
       "      <td>Muratbey Burgu Peyniri 250 gr</td>\n",
       "    </tr>\n",
       "  </tbody>\n",
       "</table>\n",
       "</div>"
      ],
      "text/plain": [
       "       productid        brand              category  \\\n",
       "0  HBV00000AX6LR      Palette         Kişisel Bakım   \n",
       "1  HBV00000BSAQG         Best              Pet Shop   \n",
       "2  HBV00000JUHBA  Tarım Kredi            Temel Gıda   \n",
       "3  HBV00000NE0QI        Namet  Et, Balık, Şarküteri   \n",
       "4  HBV00000NE0UQ     Muratbey    Kahvaltılık ve Süt   \n",
       "\n",
       "                 subcategory  \\\n",
       "0                 Saç Bakımı   \n",
       "1                       Kedi   \n",
       "2  Bakliyat, Pirinç, Makarna   \n",
       "3                  Şarküteri   \n",
       "4                     Peynir   \n",
       "\n",
       "                                                name  \n",
       "0          Palette Kalıcı Doğal Renkler 10-4 PAPATYA  \n",
       "1  Best Pet Jöle İçinde Parça Etli Somonlu Konser...  \n",
       "2       Türkiye Tarım Kredi Koop.Yeşil Mercimek 1 kg  \n",
       "3                  Namet Fıstıklı Macar Salam 100 gr  \n",
       "4                      Muratbey Burgu Peyniri 250 gr  "
      ]
     },
     "execution_count": 10,
     "metadata": {},
     "output_type": "execute_result"
    }
   ],
   "source": [
    "meta_df_reorganized=meta_df_reorganized.mask(meta_df_reorganized.eq('None')).dropna()\n",
    "meta_df_reorganized.head()"
   ]
  },
  {
   "cell_type": "code",
   "execution_count": 11,
   "metadata": {},
   "outputs": [
    {
     "data": {
      "text/html": [
       "<div>\n",
       "<style scoped>\n",
       "    .dataframe tbody tr th:only-of-type {\n",
       "        vertical-align: middle;\n",
       "    }\n",
       "\n",
       "    .dataframe tbody tr th {\n",
       "        vertical-align: top;\n",
       "    }\n",
       "\n",
       "    .dataframe thead th {\n",
       "        text-align: right;\n",
       "    }\n",
       "</style>\n",
       "<table border=\"1\" class=\"dataframe\">\n",
       "  <thead>\n",
       "    <tr style=\"text-align: right;\">\n",
       "      <th></th>\n",
       "      <th>productid</th>\n",
       "      <th>brand</th>\n",
       "      <th>category</th>\n",
       "      <th>subcategory</th>\n",
       "      <th>name</th>\n",
       "    </tr>\n",
       "  </thead>\n",
       "  <tbody>\n",
       "    <tr>\n",
       "      <th>0</th>\n",
       "      <td>HBV00000AX6LR</td>\n",
       "      <td>Palette</td>\n",
       "      <td>Kişisel Bakım</td>\n",
       "      <td>Saç Bakımı</td>\n",
       "      <td>Palette Kalıcı Doğal Renkler 10-4 PAPATYA</td>\n",
       "    </tr>\n",
       "    <tr>\n",
       "      <th>1</th>\n",
       "      <td>HBV00000BSAQG</td>\n",
       "      <td>Best</td>\n",
       "      <td>Pet Shop</td>\n",
       "      <td>Kedi</td>\n",
       "      <td>Best Pet Jöle İçinde Parça Etli Somonlu Konser...</td>\n",
       "    </tr>\n",
       "    <tr>\n",
       "      <th>2</th>\n",
       "      <td>HBV00000JUHBA</td>\n",
       "      <td>Tarım Kredi</td>\n",
       "      <td>Temel Gıda</td>\n",
       "      <td>Bakliyat, Pirinç, Makarna</td>\n",
       "      <td>Türkiye Tarım Kredi Koop.Yeşil Mercimek 1 kg</td>\n",
       "    </tr>\n",
       "    <tr>\n",
       "      <th>3</th>\n",
       "      <td>HBV00000NE0QI</td>\n",
       "      <td>Namet</td>\n",
       "      <td>Et, Balık, Şarküteri</td>\n",
       "      <td>Şarküteri</td>\n",
       "      <td>Namet Fıstıklı Macar Salam 100 gr</td>\n",
       "    </tr>\n",
       "    <tr>\n",
       "      <th>4</th>\n",
       "      <td>HBV00000NE0UQ</td>\n",
       "      <td>Muratbey</td>\n",
       "      <td>Kahvaltılık ve Süt</td>\n",
       "      <td>Peynir</td>\n",
       "      <td>Muratbey Burgu Peyniri 250 gr</td>\n",
       "    </tr>\n",
       "  </tbody>\n",
       "</table>\n",
       "</div>"
      ],
      "text/plain": [
       "       productid        brand              category  \\\n",
       "0  HBV00000AX6LR      Palette         Kişisel Bakım   \n",
       "1  HBV00000BSAQG         Best              Pet Shop   \n",
       "2  HBV00000JUHBA  Tarım Kredi            Temel Gıda   \n",
       "3  HBV00000NE0QI        Namet  Et, Balık, Şarküteri   \n",
       "4  HBV00000NE0UQ     Muratbey    Kahvaltılık ve Süt   \n",
       "\n",
       "                 subcategory  \\\n",
       "0                 Saç Bakımı   \n",
       "1                       Kedi   \n",
       "2  Bakliyat, Pirinç, Makarna   \n",
       "3                  Şarküteri   \n",
       "4                     Peynir   \n",
       "\n",
       "                                                name  \n",
       "0          Palette Kalıcı Doğal Renkler 10-4 PAPATYA  \n",
       "1  Best Pet Jöle İçinde Parça Etli Somonlu Konser...  \n",
       "2       Türkiye Tarım Kredi Koop.Yeşil Mercimek 1 kg  \n",
       "3                  Namet Fıstıklı Macar Salam 100 gr  \n",
       "4                      Muratbey Burgu Peyniri 250 gr  "
      ]
     },
     "execution_count": 11,
     "metadata": {},
     "output_type": "execute_result"
    }
   ],
   "source": [
    "meta_df_reorganized=meta_df_reorganized.mask(meta_df_reorganized.eq('None')).dropna()\n",
    "meta_df_reorganized.head()"
   ]
  },
  {
   "cell_type": "code",
   "execution_count": 12,
   "metadata": {},
   "outputs": [],
   "source": [
    "meta=list(set(meta_df_reorganized[\"productid\"].values))\n",
    "event=list(set(events_df_reorganized[\"productid\"].values))"
   ]
  },
  {
   "cell_type": "code",
   "execution_count": 13,
   "metadata": {},
   "outputs": [
    {
     "name": "stdout",
     "output_type": "stream",
     "text": [
      "9777\n",
      "10235\n"
     ]
    }
   ],
   "source": [
    "print(len(meta))\n",
    "print(len(event))"
   ]
  },
  {
   "cell_type": "code",
   "execution_count": 14,
   "metadata": {
    "scrolled": true
   },
   "outputs": [],
   "source": [
    "fark=list(set(event) - set(meta))"
   ]
  },
  {
   "cell_type": "code",
   "execution_count": 15,
   "metadata": {},
   "outputs": [],
   "source": [
    "for i in range(len(fark)):\n",
    "    events_df_reorganized.drop(events_df_reorganized.index[(events_df_reorganized[\"productid\"] == fark[i])],axis=0,inplace=True)"
   ]
  },
  {
   "cell_type": "code",
   "execution_count": null,
   "metadata": {},
   "outputs": [],
   "source": []
  },
  {
   "cell_type": "code",
   "execution_count": 74,
   "metadata": {},
   "outputs": [],
   "source": []
  },
  {
   "cell_type": "code",
   "execution_count": 16,
   "metadata": {},
   "outputs": [
    {
     "name": "stdout",
     "output_type": "stream",
     "text": [
      "9777\n",
      "9777\n"
     ]
    }
   ],
   "source": [
    "meta=list(set(meta_df_reorganized[\"productid\"].values))\n",
    "event=list(set(events_df_reorganized[\"productid\"].values))\n",
    "print(len(meta))\n",
    "print(len(event))"
   ]
  },
  {
   "cell_type": "code",
   "execution_count": null,
   "metadata": {},
   "outputs": [],
   "source": []
  },
  {
   "cell_type": "code",
   "execution_count": 17,
   "metadata": {},
   "outputs": [],
   "source": [
    "events_df_reorganized.to_csv(\"../events_df_reorganized.csv\", sep=',', encoding='utf-8')\n",
    "meta_df_reorganized.to_csv(\"../meta_df_reorganized.csv\", sep=',', encoding='utf-8')"
   ]
  },
  {
   "cell_type": "code",
   "execution_count": null,
   "metadata": {},
   "outputs": [],
   "source": []
  }
 ],
 "metadata": {
  "kernelspec": {
   "display_name": "Python 3",
   "language": "python",
   "name": "python3"
  },
  "language_info": {
   "codemirror_mode": {
    "name": "ipython",
    "version": 3
   },
   "file_extension": ".py",
   "mimetype": "text/x-python",
   "name": "python",
   "nbconvert_exporter": "python",
   "pygments_lexer": "ipython3",
   "version": "3.8.10"
  }
 },
 "nbformat": 4,
 "nbformat_minor": 4
}
